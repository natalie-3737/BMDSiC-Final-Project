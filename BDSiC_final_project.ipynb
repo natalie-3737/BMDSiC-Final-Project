{
 "cells": [
  {
   "cell_type": "code",
   "execution_count": 1,
   "id": "4e535d28-2fc8-45a2-bd39-2ba025de193a",
   "metadata": {},
   "outputs": [
    {
     "name": "stdout",
     "output_type": "stream",
     "text": [
      "Requirement already satisfied: openpyxl in c:\\users\\natal\\appdata\\local\\programs\\python\\python313\\lib\\site-packages (3.1.5)\n",
      "Requirement already satisfied: et-xmlfile in c:\\users\\natal\\appdata\\local\\programs\\python\\python313\\lib\\site-packages (from openpyxl) (2.0.0)\n"
     ]
    },
    {
     "name": "stderr",
     "output_type": "stream",
     "text": [
      "\n",
      "[notice] A new release of pip is available: 25.0.1 -> 25.1.1\n",
      "[notice] To update, run: python.exe -m pip install --upgrade pip\n"
     ]
    },
    {
     "name": "stdout",
     "output_type": "stream",
     "text": [
      "Requirement already satisfied: scipy in c:\\users\\natal\\appdata\\local\\programs\\python\\python313\\lib\\site-packages (1.15.3)\n",
      "Requirement already satisfied: numpy<2.5,>=1.23.5 in c:\\users\\natal\\appdata\\local\\programs\\python\\python313\\lib\\site-packages (from scipy) (2.2.6)\n"
     ]
    },
    {
     "name": "stderr",
     "output_type": "stream",
     "text": [
      "\n",
      "[notice] A new release of pip is available: 25.0.1 -> 25.1.1\n",
      "[notice] To update, run: python.exe -m pip install --upgrade pip\n"
     ]
    }
   ],
   "source": [
    "!pip install openpyxl\n",
    "!pip install scipy"
   ]
  },
  {
   "cell_type": "code",
   "execution_count": 2,
   "id": "c9b8508e-fa64-4d9a-befa-8a1bd08d58f9",
   "metadata": {},
   "outputs": [],
   "source": [
    "import pandas as pd\n",
    "import seaborn as sns\n",
    "import numpy as np\n",
    "import matplotlib.pyplot as plt\n",
    "import scipy"
   ]
  },
  {
   "cell_type": "code",
   "execution_count": null,
   "id": "458770b4-9372-4c32-8701-920d88a8461d",
   "metadata": {},
   "outputs": [],
   "source": [
    "data = pd.read_csv(r'C:\\Users\\natal\\Downloads\\GSE99445_series_matrix.txt.gz', sep='\\t', comment='!') #dataset with gene expression data\n",
    "data = data.set_index('ID_REF')\n",
    "\n",
    "#create cluster heatmap 50 random genes\n",
    "random_genes = data.sample(n=50, axis=0, random_state=42)\n",
    "\n",
    "cg = sns.clustermap(\n",
    "    random_genes,\n",
    "    cmap='plasma',        \n",
    "    figsize=(14, 10),\n",
    "    standard_scale=1,          \n",
    "    fmt=\".2f\"\n",
    ")\n",
    "\n",
    "cg.fig.suptitle(\"Heatmap of 50 Randomly Selected Genes\", fontsize=16, y=1.02)\n",
    "plt.savefig(r'C:\\Users\\natal\\Downloads\\Heatmap of 50 Randomly Selected Genes')\n",
    "plt.show()"
   ]
  },
  {
   "cell_type": "code",
   "execution_count": null,
   "id": "8058a9d2-57ee-4d73-9738-441e63a68d2c",
   "metadata": {},
   "outputs": [],
   "source": [
    "gene_variances = data.var(axis=1)\n",
    "highest_variance = data.loc[gene_variances.sort_values(ascending=False).head(50).index] #look for top 50 most variance genes\n",
    "\n",
    "#make cluster heatmap 50 highest variance genes\n",
    "cg = sns.clustermap(\n",
    "    highest_variance,\n",
    "    cmap='plasma',        \n",
    "    figsize=(14, 10),\n",
    "    standard_scale=1,          \n",
    "    fmt=\".2f\"\n",
    ")\n",
    "\n",
    "cg.fig.suptitle(\"Heatmap of 50 Highest Variance Genes\", fontsize=16, y=1.02)\n",
    "plt.savefig(r'C:\\Users\\natal\\Downloads\\Heatmap of 50 Highest Variance Genes')\n",
    "plt.show()"
   ]
  },
  {
   "cell_type": "code",
   "execution_count": 3,
   "id": "f5ca8566-66c7-42a0-9891-124006fe658e",
   "metadata": {},
   "outputs": [],
   "source": [
    "#gene ID to gene symbol from dataset1\n",
    "excel = pd.read_excel(r\"C:\\Users\\natal\\Downloads\\Gene_IDs_2.xlsx\")\n",
    "\n",
    "#create a dict relating gene ID to symbol\n",
    "id_name_dict = dict(zip(excel['ID'], excel['Gene Symbol']))"
   ]
  },
  {
   "cell_type": "code",
   "execution_count": 8,
   "id": "23c7cd3c-5d58-4c5d-b4cb-a8bb19f5f662",
   "metadata": {},
   "outputs": [
    {
     "name": "stdout",
     "output_type": "stream",
     "text": [
      "TNF: ['207113_s_at']\n",
      "IL1B: ['205067_at', '39402_at']\n",
      "IL6: ['205207_at']\n",
      "CCL2: ['216598_s_at']\n",
      "CXCL10: ['204533_at']\n",
      "TLR2: ['204924_at']\n",
      "TLR4: ['1552798_a_at', '221060_s_at', '224341_x_at', '232068_s_at']\n",
      "NLRP3: ['207075_at', '216015_s_at', '216016_at']\n",
      "CD80: ['1554519_at', '1555689_at', '207176_s_at']\n",
      "CD86: ['205685_at', '205686_s_at', '210895_s_at']\n",
      "CD163: ['203645_s_at', '215049_x_at', '216233_at']\n",
      "MRC1: ['204438_at']\n",
      "IFIT1: ['203153_at']\n",
      "IFIT2: ['217502_at', '226757_at']\n",
      "MX1: ['202086_at']\n",
      "RELA: ['201783_s_at', '209878_s_at']\n",
      "NFKB1: ['209239_at']\n",
      "STAT1: ['200887_s_at', '209969_s_at', 'AFFX-HUMISGF3A/M97935_3_at', 'AFFX-HUMISGF3A/M97935_5_at', 'AFFX-HUMISGF3A/M97935_MA_at', 'AFFX-HUMISGF3A/M97935_MB_at']\n",
      "STAT6: ['201331_s_at', '201332_s_at']\n",
      "MMP9: ['203936_s_at']\n",
      "MMP12: ['204580_at']\n"
     ]
    }
   ],
   "source": [
    "#gene of interest selected from diffrent dataset\n",
    "gene_names = [\n",
    "    \"TNF\", \"IL1B\", \"IL6\", \"CCL2\", \"CXCL10\",\n",
    "    \"TLR2\", \"TLR4\", \"NLRP3\", \"CD80\", \"CD86\",\n",
    "    \"CD163\", \"MRC1\", \"IFIT1\", \"IFIT2\", \"MX1\",\n",
    "    \"RELA\", \"NFKB1\", \"STAT1\", \"STAT6\", \"MMP9\", \"MMP12\"\n",
    "]\n",
    "\n",
    "symbol_to_ids = {} \n",
    "for id_, symbol in id_name_dict.items():\n",
    "    if isinstance(symbol, str):\n",
    "        symbols = [s.strip() for s in symbol.split('///')]\n",
    "        for s in symbols:\n",
    "            if s not in symbol_to_ids:\n",
    "                symbol_to_ids[s] = []\n",
    "            symbol_to_ids[s].append(id_)\n",
    "            \n",
    "#printp gene names of interest and gene ID\n",
    "genes_of_interest = {}\n",
    "for gene in gene_names:\n",
    "    ids = symbol_to_ids.get(gene)\n",
    "    genes_of_interest[gene] = ids\n",
    "    print(f\"{gene}: {ids if ids else 'Not found'}\")"
   ]
  },
  {
   "cell_type": "code",
   "execution_count": 9,
   "id": "c3511d53-58c1-4a37-9ad3-613887d91e9c",
   "metadata": {},
   "outputs": [
    {
     "name": "stdout",
     "output_type": "stream",
     "text": [
      "['207113_s_at', '205067_at', '39402_at', '205207_at', '216598_s_at', '204533_at', '204924_at', '1552798_a_at', '221060_s_at', '224341_x_at', '232068_s_at', '207075_at', '216015_s_at', '216016_at', '1554519_at', '1555689_at', '207176_s_at', '205685_at', '205686_s_at', '210895_s_at', '203645_s_at', '215049_x_at', '216233_at', '204438_at', '203153_at', '217502_at', '226757_at', '202086_at', '201783_s_at', '209878_s_at', '209239_at', '200887_s_at', '209969_s_at', 'AFFX-HUMISGF3A/M97935_3_at', 'AFFX-HUMISGF3A/M97935_5_at', 'AFFX-HUMISGF3A/M97935_MA_at', 'AFFX-HUMISGF3A/M97935_MB_at', '201331_s_at', '201332_s_at', '203936_s_at', '204580_at']\n"
     ]
    }
   ],
   "source": [
    "#print just gene IDs of interest\n",
    "gene_ids = []\n",
    "for ids in genes_of_interest.values():\n",
    "    if ids: \n",
    "        gene_ids.extend(ids)\n",
    "print(gene_ids)"
   ]
  },
  {
   "cell_type": "code",
   "execution_count": 10,
   "id": "5d52ba68-688d-4e4a-92a0-3bd98222dfb2",
   "metadata": {},
   "outputs": [
    {
     "name": "stdout",
     "output_type": "stream",
     "text": [
      "{'TNF': 'ENSG00000232810', 'IL1B': 'ENSG00000125538', 'IL6': 'ENSG00000136244', 'CCL2': 'ENSG00000108691', 'CXCL10': 'ENSG00000169245', 'TLR2': 'ENSG00000137462', 'TLR4': 'ENSG00000136869', 'NLRP3': 'ENSG00000162711', 'CD80': 'ENSG00000121594', 'CD86': 'ENSG00000114013', 'CD163': 'ENSG00000177575', 'MRC1': 'ENSG00000260314', 'IFIT1': 'ENSG00000185745', 'IFIT2': 'ENSG00000119922', 'MX1': 'ENSG00000157601', 'RELA': 'ENSG00000173039', 'NFKB1': 'ENSG00000109320', 'STAT1': 'ENSG00000115415', 'STAT6': 'ENSG00000166888', 'MMP9': 'ENSG00000100985', 'MMP12': 'ENSG00000262406'}\n"
     ]
    }
   ],
   "source": [
    "file_path = (r'C:\\Users\\natal\\Downloads\\converted_data.csv') #dataset with ensembl ID and gene expression data\n",
    "df = pd.read_csv(file_path, index_col=0)\n",
    "df.index = df.index.str.split('.').str[0]\n",
    "\n",
    "#pair gene names with ensembl names\n",
    "ensembl_gene_ids = {\n",
    "    'TNF': 'ENSG00000232810',\n",
    "    'IL1B': 'ENSG00000125538',\n",
    "    'IL6': 'ENSG00000136244',\n",
    "    'CCL2': 'ENSG00000108691',\n",
    "    'CXCL10': 'ENSG00000169245',\n",
    "    'TLR2': 'ENSG00000137462',\n",
    "    'TLR4': 'ENSG00000136869',\n",
    "    'NLRP3': 'ENSG00000162711',\n",
    "    'CD80': 'ENSG00000121594',\n",
    "    'CD86': 'ENSG00000114013',\n",
    "    'CD163': 'ENSG00000177575',\n",
    "    'MRC1': 'ENSG00000260314',\n",
    "    'IFIT1': 'ENSG00000185745',\n",
    "    'IFIT2': 'ENSG00000119922',\n",
    "    'MX1': 'ENSG00000157601',\n",
    "    'RELA': 'ENSG00000173039',\n",
    "    'NFKB1': 'ENSG00000109320',\n",
    "    'STAT1': 'ENSG00000115415',\n",
    "    'STAT6': 'ENSG00000166888',\n",
    "    'MMP9': 'ENSG00000100985',\n",
    "    'MMP12': 'ENSG00000262406'\n",
    "}\n",
    "print(ensembl_gene_ids)"
   ]
  },
  {
   "cell_type": "code",
   "execution_count": null,
   "id": "c4571b7d-2ac4-4de9-85c9-2e9bbfe1a622",
   "metadata": {},
   "outputs": [],
   "source": [
    "#creating cluster heatmap \n",
    "selected_ensembl_ids = [ensembl_id for ensembl_id in ensembl_gene_ids.values() if ensembl_id in df.index]\n",
    "heatmap_data = df.loc[selected_ensembl_ids]\n",
    "\n",
    "ensembl_to_symbol = {v: k for k, v in ensembl_gene_ids.items()}\n",
    "heatmap_data.index = [ensembl_to_symbol[ensg] for ensg in heatmap_data.index]\n",
    "log_data = np.log1p(heatmap_data)\n",
    "\n",
    "cg = sns.clustermap(\n",
    "    log_data,\n",
    "    cmap='plasma',        \n",
    "    figsize=(14, 10),\n",
    "    standard_scale=1,          \n",
    "    fmt=\".2f\"\n",
    ")\n",
    "\n",
    "cg.fig.suptitle(\"Clustered Heatmap of Gene Expression\", fontsize=16, y=1.02)\n",
    "plt.savefig(r'C:\\Users\\natal\\Downloads\\Clustered Heatmap of Gene Expression')\n",
    "plt.show()"
   ]
  }
 ],
 "metadata": {
  "kernelspec": {
   "display_name": "Python 3 (ipykernel)",
   "language": "python",
   "name": "python3"
  },
  "language_info": {
   "codemirror_mode": {
    "name": "ipython",
    "version": 3
   },
   "file_extension": ".py",
   "mimetype": "text/x-python",
   "name": "python",
   "nbconvert_exporter": "python",
   "pygments_lexer": "ipython3",
   "version": "3.13.3"
  }
 },
 "nbformat": 4,
 "nbformat_minor": 5
}
